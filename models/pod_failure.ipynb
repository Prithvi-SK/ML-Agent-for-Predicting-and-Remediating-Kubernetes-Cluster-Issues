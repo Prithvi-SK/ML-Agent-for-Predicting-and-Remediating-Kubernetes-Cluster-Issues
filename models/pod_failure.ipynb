{
 "cells": [
  {
   "cell_type": "code",
   "execution_count": 8,
   "metadata": {
    "id": "IxjoYgeeF5MM"
   },
   "outputs": [
    {
     "name": "stdout",
     "output_type": "stream",
     "text": [
      "Installing scikit-learn...\n",
      "Requirement already satisfied: scikit-learn in /opt/homebrew/Caskroom/miniconda/base/envs/cc/lib/python3.11/site-packages (1.6.1)\n",
      "Requirement already satisfied: numpy>=1.19.5 in /opt/homebrew/Caskroom/miniconda/base/envs/cc/lib/python3.11/site-packages (from scikit-learn) (2.1.3)\n",
      "Requirement already satisfied: scipy>=1.6.0 in /opt/homebrew/Caskroom/miniconda/base/envs/cc/lib/python3.11/site-packages (from scikit-learn) (1.15.2)\n",
      "Requirement already satisfied: joblib>=1.2.0 in /opt/homebrew/Caskroom/miniconda/base/envs/cc/lib/python3.11/site-packages (from scikit-learn) (1.4.2)\n",
      "Requirement already satisfied: threadpoolctl>=3.1.0 in /opt/homebrew/Caskroom/miniconda/base/envs/cc/lib/python3.11/site-packages (from scikit-learn) (3.6.0)\n",
      "scikit-learn installed successfully!\n"
     ]
    }
   ],
   "source": [
    "import subprocess\n",
    "import sys\n",
    "\n",
    "def install_and_import(package):\n",
    "    try:\n",
    "        __import__(package)\n",
    "    except ImportError:\n",
    "        print(f\"Installing {package}...\")\n",
    "        subprocess.check_call([sys.executable, \"-m\", \"pip\", \"install\", package])\n",
    "        print(f\"{package} installed successfully!\")\n",
    "\n",
    "packages = [\n",
    "    \"pandas\", \"numpy\", \"matplotlib\", \"seaborn\", \"scikit-learn\",\n",
    "    \"tensorflow\"\n",
    "]\n",
    "\n",
    "# Install missing packages\n",
    "for package in packages:\n",
    "    install_and_import(package)\n",
    "\n",
    "import pandas as pd\n",
    "import numpy as np\n",
    "import matplotlib.pyplot as plt\n",
    "import seaborn as sns\n",
    "from sklearn.preprocessing import MinMaxScaler\n",
    "from sklearn.ensemble import IsolationForest\n",
    "from tensorflow.keras.models import Sequential\n",
    "from tensorflow.keras.layers import LSTM, Dense, Dropout\n",
    "from tensorflow.keras.optimizers import Adam\n",
    "from sklearn.metrics import classification_report, accuracy_score\n",
    "import tensorflow as tf\n",
    "\n",
    "# Load dataset\n",
    "file_path = \"../data/guidewire-2.csv\"\n",
    "df = pd.read_csv(file_path)\n",
    "\n",
    "# Convert Timestamp to datetime\n",
    "df[\"Timestamp\"] = pd.to_datetime(df[\"Timestamp\"])\n",
    "df = df.sort_values(by=\"Timestamp\")\n",
    "\n",
    "# Select relevant features\n",
    "features = [\"CPU Usage (%)\", \"Memory Usage (%)\", \"Pod Restarts\",\n",
    "            \"Network Receive Bytes\", \"Network Transmit Bytes\",\n",
    "            \"Network Receive Packets (p/s)\", \"Network Transmit Packets (p/s)\"]\n",
    "\n",
    "target = \"Pod Status\"\n",
    "\n",
    "# Drop NaNs\n",
    "df = df[features + [target]].dropna()\n",
    "\n",
    "# Normalize features\n",
    "scaler = MinMaxScaler()\n",
    "df[features] = scaler.fit_transform(df[features])\n",
    "\n",
    "# Convert Pod Status to binary classification (0: normal, 1: failure)\n",
    "df[target] = (df[target] != 5).astype(int)  # Assuming 5 is the 'healthy' status\n",
    "\n",
    "# Convert to NumPy array\n",
    "data = df[features].values\n",
    "labels = df[target].values\n",
    "\n",
    "# Create sequences for LSTM (using past 10 steps)\n",
    "def create_sequences(data, labels, seq_length=10):\n",
    "    X, y = [], []\n",
    "    for i in range(len(data) - seq_length):\n",
    "        X.append(data[i:i+seq_length])\n",
    "        y.append(labels[i+seq_length])\n",
    "    return np.array(X), np.array(y)\n",
    "\n",
    "seq_length = 10\n",
    "X, y = create_sequences(data, labels, seq_length)\n",
    "\n",
    "# Split into train and test sets\n",
    "split = int(0.8 * len(X))\n",
    "X_train, X_test = X[:split], X[split:]\n",
    "y_train, y_test = y[:split], y[split:]\n"
   ]
  },
  {
   "cell_type": "code",
   "execution_count": null,
   "metadata": {
    "colab": {
     "base_uri": "https://localhost:8080/"
    },
    "executionInfo": {
     "elapsed": 85367,
     "status": "ok",
     "timestamp": 1742483464000,
     "user": {
      "displayName": "Prithvi SK",
      "userId": "12460935042064814316"
     },
     "user_tz": -330
    },
    "id": "XKJ4y38uGiM6",
    "outputId": "260adc5b-3840-4449-946a-9ca91679eb0f"
   },
   "outputs": [
    {
     "name": "stderr",
     "output_type": "stream",
     "text": [
      "/usr/local/lib/python3.11/dist-packages/keras/src/layers/rnn/rnn.py:200: UserWarning: Do not pass an `input_shape`/`input_dim` argument to a layer. When using Sequential models, prefer using an `Input(shape)` object as the first layer in the model instead.\n",
      "  super().__init__(**kwargs)\n"
     ]
    },
    {
     "name": "stdout",
     "output_type": "stream",
     "text": [
      "Epoch 1/10\n",
      "\u001b[1m887/887\u001b[0m \u001b[32m━━━━━━━━━━━━━━━━━━━━\u001b[0m\u001b[37m\u001b[0m \u001b[1m12s\u001b[0m 9ms/step - accuracy: 0.7437 - loss: 0.5390 - val_accuracy: 0.8964 - val_loss: 0.3361\n",
      "Epoch 2/10\n",
      "\u001b[1m887/887\u001b[0m \u001b[32m━━━━━━━━━━━━━━━━━━━━\u001b[0m\u001b[37m\u001b[0m \u001b[1m7s\u001b[0m 7ms/step - accuracy: 0.7499 - loss: 0.5192 - val_accuracy: 0.8964 - val_loss: 0.3374\n",
      "Epoch 3/10\n",
      "\u001b[1m887/887\u001b[0m \u001b[32m━━━━━━━━━━━━━━━━━━━━\u001b[0m\u001b[37m\u001b[0m \u001b[1m8s\u001b[0m 9ms/step - accuracy: 0.7474 - loss: 0.5193 - val_accuracy: 0.8964 - val_loss: 0.3368\n",
      "Epoch 4/10\n",
      "\u001b[1m887/887\u001b[0m \u001b[32m━━━━━━━━━━━━━━━━━━━━\u001b[0m\u001b[37m\u001b[0m \u001b[1m7s\u001b[0m 8ms/step - accuracy: 0.7492 - loss: 0.5155 - val_accuracy: 0.8964 - val_loss: 0.3361\n",
      "Epoch 5/10\n",
      "\u001b[1m887/887\u001b[0m \u001b[32m━━━━━━━━━━━━━━━━━━━━\u001b[0m\u001b[37m\u001b[0m \u001b[1m7s\u001b[0m 7ms/step - accuracy: 0.7455 - loss: 0.5176 - val_accuracy: 0.8964 - val_loss: 0.3366\n",
      "Epoch 6/10\n",
      "\u001b[1m887/887\u001b[0m \u001b[32m━━━━━━━━━━━━━━━━━━━━\u001b[0m\u001b[37m\u001b[0m \u001b[1m11s\u001b[0m 9ms/step - accuracy: 0.7525 - loss: 0.5089 - val_accuracy: 0.8964 - val_loss: 0.3406\n",
      "Epoch 7/10\n",
      "\u001b[1m887/887\u001b[0m \u001b[32m━━━━━━━━━━━━━━━━━━━━\u001b[0m\u001b[37m\u001b[0m \u001b[1m10s\u001b[0m 9ms/step - accuracy: 0.7525 - loss: 0.5050 - val_accuracy: 0.8964 - val_loss: 0.3426\n",
      "Epoch 8/10\n",
      "\u001b[1m887/887\u001b[0m \u001b[32m━━━━━━━━━━━━━━━━━━━━\u001b[0m\u001b[37m\u001b[0m \u001b[1m6s\u001b[0m 7ms/step - accuracy: 0.7507 - loss: 0.5111 - val_accuracy: 0.8964 - val_loss: 0.3400\n",
      "Epoch 9/10\n",
      "\u001b[1m887/887\u001b[0m \u001b[32m━━━━━━━━━━━━━━━━━━━━\u001b[0m\u001b[37m\u001b[0m \u001b[1m8s\u001b[0m 9ms/step - accuracy: 0.7488 - loss: 0.5121 - val_accuracy: 0.8964 - val_loss: 0.3403\n",
      "Epoch 10/10\n",
      "\u001b[1m887/887\u001b[0m \u001b[32m━━━━━━━━━━━━━━━━━━━━\u001b[0m\u001b[37m\u001b[0m \u001b[1m7s\u001b[0m 8ms/step - accuracy: 0.7550 - loss: 0.5054 - val_accuracy: 0.8964 - val_loss: 0.3385\n"
     ]
    }
   ],
   "source": [
    "# Build LSTM Model\n",
    "model = Sequential([\n",
    "    LSTM(64, return_sequences=True, input_shape=(seq_length, X.shape[2])),\n",
    "    Dropout(0.2),\n",
    "    LSTM(32, return_sequences=False),\n",
    "    Dropout(0.2),\n",
    "    Dense(1, activation=\"sigmoid\")\n",
    "])\n",
    "\n",
    "# Compile Model\n",
    "model.compile(loss=\"binary_crossentropy\", optimizer=Adam(learning_rate=0.001), metrics=[\"accuracy\"])\n",
    "\n",
    "# Train Model\n",
    "history = model.fit(X_train, y_train, epochs=10, batch_size=32, validation_data=(X_test, y_test))\n"
   ]
  },
  {
   "cell_type": "code",
   "execution_count": null,
   "metadata": {
    "colab": {
     "base_uri": "https://localhost:8080/"
    },
    "executionInfo": {
     "elapsed": 3940,
     "status": "ok",
     "timestamp": 1742483472252,
     "user": {
      "displayName": "Prithvi SK",
      "userId": "12460935042064814316"
     },
     "user_tz": -330
    },
    "id": "d_SDyBhNGeyR",
    "outputId": "3d3a34d2-3f57-4998-b76c-2c8d7880d15b"
   },
   "outputs": [
    {
     "name": "stdout",
     "output_type": "stream",
     "text": [
      "\u001b[1m222/222\u001b[0m \u001b[32m━━━━━━━━━━━━━━━━━━━━\u001b[0m\u001b[37m\u001b[0m \u001b[1m2s\u001b[0m 6ms/step\n",
      "Accuracy: 0.8420236753100339\n",
      "              precision    recall  f1-score   support\n",
      "\n",
      "           0       0.89      0.94      0.91      6361\n",
      "           1       0.05      0.03      0.04       735\n",
      "\n",
      "    accuracy                           0.84      7096\n",
      "   macro avg       0.47      0.48      0.48      7096\n",
      "weighted avg       0.81      0.84      0.82      7096\n",
      "\n"
     ]
    }
   ],
   "source": [
    "# Train Isolation Forest on training data\n",
    "iso_forest = IsolationForest(n_estimators=100, contamination=0.05, random_state=42)\n",
    "iso_forest.fit(X_train.reshape(X_train.shape[0], -1))  # Flatten time-series\n",
    "\n",
    "# Predict anomalies (-1 means anomaly, 1 means normal)\n",
    "anomaly_scores = iso_forest.predict(X_test.reshape(X_test.shape[0], -1))\n",
    "anomaly_scores = np.where(anomaly_scores == -1, 1, 0)  # Convert to binary (1 = anomaly)\n",
    "\n",
    "# Combine LSTM and Isolation Forest results\n",
    "final_predictions = np.logical_or(model.predict(X_test).flatten() > 0.5, anomaly_scores).astype(int)\n",
    "\n",
    "# Evaluate\n",
    "print(\"Accuracy:\", accuracy_score(y_test, final_predictions))\n",
    "print(classification_report(y_test, final_predictions))\n"
   ]
  },
  {
   "cell_type": "code",
   "execution_count": null,
   "metadata": {
    "id": "_Je7Pa7kG6xf"
   },
   "outputs": [],
   "source": []
  }
 ],
 "metadata": {
  "accelerator": "GPU",
  "colab": {
   "authorship_tag": "ABX9TyPXdwGCKLID6BxiizchA1x9",
   "gpuType": "T4",
   "provenance": []
  },
  "kernelspec": {
   "display_name": "cc",
   "language": "python",
   "name": "python3"
  },
  "language_info": {
   "codemirror_mode": {
    "name": "ipython",
    "version": 3
   },
   "file_extension": ".py",
   "mimetype": "text/x-python",
   "name": "python",
   "nbconvert_exporter": "python",
   "pygments_lexer": "ipython3",
   "version": "3.11.11"
  }
 },
 "nbformat": 4,
 "nbformat_minor": 0
}
